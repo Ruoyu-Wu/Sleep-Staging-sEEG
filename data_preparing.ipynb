{
 "cells": [
  {
   "cell_type": "code",
   "execution_count": 1,
   "metadata": {},
   "outputs": [],
   "source": [
    "import argparse\n",
    "import glob\n",
    "import math\n",
    "import ntpath\n",
    "import os\n",
    "import shutil\n",
    "\n",
    "\n",
    "from datetime import datetime\n",
    "\n",
    "import numpy as np\n",
    "import pandas as pd\n",
    "\n",
    "from mne.io import concatenate_raws, read_raw_edf\n",
    "\n",
    "# import dhedfreader\n",
    "\n",
    "\n",
    "# Label values\n",
    "W = 0\n",
    "N2 = 2\n",
    "N3 = 3\n",
    "REM = 4\n",
    "# UNKNOWN = 5"
   ]
  },
  {
   "cell_type": "code",
   "execution_count": 2,
   "metadata": {},
   "outputs": [],
   "source": [
    "stage_dict = {\n",
    "    \"W\": W,\n",
    "    \"N2\": N2,\n",
    "    \"N3\": N3,\n",
    "    \"REM\": REM,\n",
    "}\n",
    "\n",
    "EPOCH_SEC_SIZE = 30\n"
   ]
  }
 ],
 "metadata": {
  "kernelspec": {
   "display_name": "sleep_eeg_311",
   "language": "python",
   "name": "python3"
  },
  "language_info": {
   "codemirror_mode": {
    "name": "ipython",
    "version": 3
   },
   "file_extension": ".py",
   "mimetype": "text/x-python",
   "name": "python",
   "nbconvert_exporter": "python",
   "pygments_lexer": "ipython3",
   "version": "3.11.9"
  }
 },
 "nbformat": 4,
 "nbformat_minor": 2
}
