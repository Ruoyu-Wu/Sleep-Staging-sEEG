{
  "cells": [
    {
      "cell_type": "markdown",
      "metadata": {
        "id": "y0Oxolwghk76"
      },
      "source": [
        "# loading modules and data"
      ]
    },
    {
      "cell_type": "code",
      "execution_count": 2,
      "metadata": {
        "colab": {
          "base_uri": "https://localhost:8080/"
        },
        "id": "wCEf5YIsdIDq",
        "outputId": "fc0df4eb-629c-41ff-f0f7-46ae542d2660"
      },
      "outputs": [],
      "source": [
        "import numpy as np\n",
        "import tensorflow as tf\n",
        "from sklearn.model_selection import train_test_split\n",
        "from tensorflow.keras.models import Sequential\n",
        "from tensorflow.keras.layers import Dense, LSTM\n",
        "import sys\n",
        "import torch\n",
        "import torch.nn as nn\n",
        "import torch.nn.functional as F\n",
        "import math\n",
        "import copy\n",
        "from copy import deepcopy\n",
        "import torch.optim as optim\n",
        "from sklearn.ensemble import RandomForestClassifier\n",
        "from sklearn.metrics import f1_score, accuracy_score\n",
        "from sklearn.cluster import KMeans\n",
        "from sklearn.model_selection import train_test_split\n",
        "from torchinfo import summary\n"
      ]
    },
    {
      "cell_type": "code",
      "execution_count": 3,
      "metadata": {
        "id": "meNoiUv3r9qB"
      },
      "outputs": [],
      "source": [
        "\n",
        "# Load the data\n",
        "data = np.load('/Volumes/ruoyu_hd/Projects/DScapstone/Sleep/Data/mni_sEEG/train_data_noCoordinates.npz')\n",
        "X = data['X']\n",
        "y = data['y']\n",
        "regions = data['region']"
      ]
    },
    {
      "cell_type": "code",
      "execution_count": 4,
      "metadata": {
        "colab": {
          "base_uri": "https://localhost:8080/"
        },
        "id": "XfAzgkp5joeL",
        "outputId": "b4b84724-424d-4480-ea91-be462f9d2373"
      },
      "outputs": [
        {
          "name": "stdout",
          "output_type": "stream",
          "text": [
            "X shape: torch.Size([4576, 6800])\n",
            "y shape: torch.Size([4576])\n"
          ]
        }
      ],
      "source": [
        "X_tensor = torch.tensor(X, dtype=torch.float32)  # Convert to float32 for input\n",
        "y_tensor = torch.tensor(y, dtype=torch.long)  # Convert to long for class labels\n",
        "\n",
        "# Check the shapes to ensure correctness\n",
        "print(\"X shape:\", X_tensor.shape)\n",
        "print(\"y shape:\", y_tensor.shape)"
      ]
    },
    {
      "cell_type": "code",
      "execution_count": 5,
      "metadata": {
        "id": "VhUMR5KsYRmW"
      },
      "outputs": [],
      "source": [
        "X = X[:,0:3000] #sampling rate 100Hz, slice to the first 30s"
      ]
    },
    {
      "cell_type": "code",
      "execution_count": 6,
      "metadata": {
        "colab": {
          "base_uri": "https://localhost:8080/"
        },
        "id": "mLpHQ51fY4DY",
        "outputId": "2e5d249c-c89b-4e13-f4e6-dae743865bad"
      },
      "outputs": [
        {
          "data": {
            "text/plain": [
              "(4576, 3000)"
            ]
          },
          "execution_count": 6,
          "metadata": {},
          "output_type": "execute_result"
        }
      ],
      "source": [
        "X.shape"
      ]
    },
    {
      "cell_type": "markdown",
      "metadata": {},
      "source": [
        "### define frequency ranges"
      ]
    },
    {
      "cell_type": "code",
      "execution_count": 7,
      "metadata": {
        "id": "zCSqLFbjuSjV"
      },
      "outputs": [],
      "source": [
        "freq_bands = {\n",
        "    \"delta_freq_range\": [(1, 2)],\n",
        "    \"theta_freq_range\": [(3, 7)],\n",
        "    \"alpha_freq_range\": [(8, 12)],\n",
        "    \"low_beta_freq_range\": [(13, 16)],\n",
        "    \"mid_beta_freq_range\": [(17, 20)],\n",
        "    \"high_beta_freq_range\": [(21, 29)],\n",
        "    \"gamma_freq_range\": [(30, 100)]\n",
        "}\n",
        "# \"full_band_range\": [(0.25, 100)]"
      ]
    },
    {
      "cell_type": "markdown",
      "metadata": {
        "id": "QZLEJo_ahp5o"
      },
      "source": [
        "# building blocks"
      ]
    },
    {
      "cell_type": "code",
      "execution_count": 8,
      "metadata": {
        "id": "nx6Xo9mpsQ5r"
      },
      "outputs": [],
      "source": [
        "class SELayer(nn.Module):\n",
        "    def __init__(self, channel, reduction=16):\n",
        "        super(SELayer, self).__init__()\n",
        "        self.avg_pool = nn.AdaptiveAvgPool1d(1)\n",
        "        self.fc = nn.Sequential(\n",
        "            nn.Linear(channel, channel // reduction, bias=False),\n",
        "            nn.ReLU(inplace=True),\n",
        "            nn.Linear(channel // reduction, channel, bias=False),\n",
        "            nn.Sigmoid()\n",
        "        )\n",
        "\n",
        "    def forward(self, x):\n",
        "        b, c, _ = x.size()\n",
        "        y = self.avg_pool(x).view(b, c)\n",
        "        y = self.fc(y).view(b, c, 1)\n",
        "        return x * y.expand_as(x)\n",
        "\n",
        "\n",
        "class SEBasicBlock(nn.Module):\n",
        "    expansion = 1\n",
        "\n",
        "    def __init__(self, inplanes, planes, stride=1, downsample=None, groups=1,\n",
        "                 base_width=64, dilation=1, norm_layer=None,\n",
        "                 *, reduction=16):\n",
        "        super(SEBasicBlock, self).__init__()\n",
        "        self.conv1 = nn.Conv1d(inplanes, planes, stride)\n",
        "        self.bn1 = nn.BatchNorm1d(planes)\n",
        "        self.relu = nn.ReLU(inplace=True)\n",
        "        self.conv2 = nn.Conv1d(planes, planes, 1)\n",
        "        self.bn2 = nn.BatchNorm1d(planes)\n",
        "        self.se = SELayer(planes, reduction)\n",
        "        self.downsample = downsample\n",
        "        self.stride = stride\n",
        "\n",
        "\n",
        "    def forward(self, x):\n",
        "        residual = x\n",
        "        out = self.conv1(x)\n",
        "        out = self.bn1(out)\n",
        "        out = self.relu(out)\n",
        "\n",
        "        out = self.conv2(out)\n",
        "        out = self.bn2(out)\n",
        "        out = self.se(out)\n",
        "\n",
        "        if self.downsample is not None:\n",
        "            residual = self.downsample(x)\n",
        "\n",
        "        out += residual\n",
        "        out = self.relu(out)\n",
        "\n",
        "        return out\n",
        "\n",
        "class GELU(nn.Module):\n",
        "    # for older versions of PyTorch.  For new versions you can use nn.GELU() instead.\n",
        "    def __init__(self):\n",
        "        super(GELU, self).__init__()\n",
        "\n",
        "    def forward(self, x):\n",
        "        x = torch.nn.functional.gelu(x)\n",
        "        return x\n"
      ]
    },
    {
      "cell_type": "code",
      "execution_count": 9,
      "metadata": {
        "id": "lhhsm1p4sJIm"
      },
      "outputs": [],
      "source": [
        "class extendedMRCNN(nn.Module):\n",
        "    def __init__(self, afr_reduced_cnn_size):\n",
        "        super(extendedMRCNN, self).__init__()\n",
        "        drate = 0.5\n",
        "        fs = 100\n",
        "\n",
        "        kernel_size1 = int(fs / 0.25)  # delta range\n",
        "        kernel_size2 = int(fs / 5)      # theta range\n",
        "        kernel_size3 = int(fs / 10)     # alpha range\n",
        "        kernel_size4 = int(fs / 20)     # beta range\n",
        "        kernel_size5 = int(fs / 50)     # gamma range\n",
        "\n",
        "        def create_feature_layer(kernel_size):\n",
        "            stride = max(50, round(kernel_size / 8))  # Ensure at least 2\n",
        "            padding = max(0, round(kernel_size / 2)) #\n",
        "\n",
        "            return nn.Sequential(\n",
        "                nn.Conv1d(1, 64, kernel_size=kernel_size, stride=stride, bias=False, padding=padding),\n",
        "                nn.BatchNorm1d(64),\n",
        "                nn.GELU(),\n",
        "                nn.MaxPool1d(kernel_size=8, stride=2, padding=4),\n",
        "                nn.Dropout(drate),\n",
        "                nn.Conv1d(64, 128, kernel_size=8, stride=1, bias=False, padding=4),\n",
        "                nn.BatchNorm1d(128),\n",
        "                nn.GELU(),\n",
        "                nn.Conv1d(128, 128, kernel_size=8, stride=1, bias=False, padding=4),\n",
        "                nn.BatchNorm1d(128),\n",
        "                nn.GELU(),\n",
        "                \n",
        "                nn.MaxPool1d(kernel_size=4, stride=4, padding=2)\n",
        "            )\n",
        "\n",
        "        self.features1 = create_feature_layer(kernel_size1)\n",
        "        self.features2 = create_feature_layer(kernel_size2)\n",
        "        self.features3 = create_feature_layer(kernel_size3)\n",
        "        self.features4 = create_feature_layer(kernel_size4)\n",
        "        self.features5 = create_feature_layer(kernel_size5)\n",
        "\n",
        "        self.dropout = nn.Dropout(drate)\n",
        "        self.inplanes = 640\n",
        "        self.AFR = self._make_layer(SEBasicBlock, afr_reduced_cnn_size, 1)\n",
        "\n",
        "    def _make_layer(self, block, planes, blocks, stride=1):\n",
        "        downsample = None\n",
        "        if stride != 1 or self.inplanes != planes * block.expansion:\n",
        "            downsample = nn.Sequential(\n",
        "                nn.Conv1d(self.inplanes, planes * block.expansion, kernel_size=1, stride=stride, bias=False),\n",
        "                nn.BatchNorm1d(planes * block.expansion),\n",
        "            )\n",
        "\n",
        "        layers = []\n",
        "        layers.append(block(self.inplanes, planes, stride, downsample))\n",
        "        self.inplanes = planes * block.expansion\n",
        "        for i in range(1, blocks):\n",
        "            layers.append(block(self.inplanes, planes))\n",
        "\n",
        "        return nn.Sequential(*layers)\n",
        "\n",
        "    def forward(self, x):\n",
        "        x1 = self.features1(x)\n",
        "        x2 = self.features2(x)\n",
        "        x3 = self.features3(x)\n",
        "        x4 = self.features4(x)\n",
        "        x5 = self.features5(x)\n",
        "        print(f\"x1 shape: {x1.shape}\")\n",
        "        print(f\"x2 shape: {x2.shape}\")\n",
        "        print(f\"x3 shape: {x3.shape}\")\n",
        "        print(f\"x4 shape: {x4.shape}\")\n",
        "        print(f\"x5 shape: {x5.shape}\")\n",
        "\n",
        "        # Concatenate all feature outputs along the channel dimension\n",
        "        x_concat = torch.cat((x1, x2, x3, x4, x5), dim=1)\n",
        "        x_concat = self.dropout(x_concat)\n",
        "        x_concat = self.AFR(x_concat)\n",
        "\n",
        "        return x_concat"
      ]
    },
    {
      "cell_type": "code",
      "execution_count": 10,
      "metadata": {
        "id": "EbWjSRoz19F7"
      },
      "outputs": [],
      "source": [
        "class TContext(nn.Module):\n",
        "  def __init__(self, input_size, hidden_size, num_layers, num_classes):\n",
        "        super(TContext, self).__init__()\n",
        "        self.lstm = nn.LSTM(input_size=input_size, hidden_size=hidden_size, num_layers=num_layers)\n",
        "        self.fc = nn.Linear(hidden_size, num_classes)\n",
        "  def forward(self, x):\n",
        "      lstm_out, _ = self.lstm(x)\n",
        "      out = self.fc(lstm_out[:, -1, :])\n",
        "      return F.log_softmax(out, dim=1)"
      ]
    },
    {
      "cell_type": "code",
      "execution_count": 11,
      "metadata": {
        "id": "48i4sPmR3jao"
      },
      "outputs": [],
      "source": [
        "class DeepSleepSEEG(nn.Module):\n",
        "  def __init__(self):\n",
        "        super(DeepSleepSEEG, self).__init__()\n",
        "        num_classes = 4\n",
        "        afr_reduced_cnn_size = 640\n",
        "        self.extendedMRCNN = extendedMRCNN(afr_reduced_cnn_size)\n",
        "        lstm_input_size = afr_reduced_cnn_size # Output size from extendedMRCNN\n",
        "        hidden_size = 128  # Number of LSTM units\n",
        "        num_layers = 2     # Number of LSTM layers\n",
        "\n",
        "        # Initialize TContext with appropriate parameters\n",
        "        self.TContext = TContext(input_size=lstm_input_size, hidden_size=hidden_size, num_layers=num_layers, num_classes=num_classes)\n",
        "\n",
        "  def forward(self, x):\n",
        "      # Get features from extendedMRCNN\n",
        "      x_feat = self.extendedMRCNN(x)\n",
        "\n",
        "      # Pass features through TContext (LSTM)\n",
        "      encoded_features = self.TContext(x_feat)\n",
        "\n",
        "      return encoded_features"
      ]
    },
    {
      "cell_type": "markdown",
      "metadata": {
        "id": "hw7GjPh2sNUk"
      },
      "source": [
        "# testing (checking) model"
      ]
    },
    {
      "cell_type": "markdown",
      "metadata": {
        "id": "56P3asjB3Evx"
      },
      "source": [
        "### extendedMRCNN architecture"
      ]
    },
    {
      "cell_type": "code",
      "execution_count": 14,
      "metadata": {
        "colab": {
          "base_uri": "https://localhost:8080/"
        },
        "id": "IuUNDTkvj4Wx",
        "outputId": "afbfc329-74cc-47e4-e236-684098f1aa8a"
      },
      "outputs": [
        {
          "name": "stdout",
          "output_type": "stream",
          "text": [
            "x1 shape: torch.Size([100, 128, 9])\n",
            "x2 shape: torch.Size([100, 128, 9])\n",
            "x3 shape: torch.Size([100, 128, 9])\n",
            "x4 shape: torch.Size([100, 128, 9])\n",
            "x5 shape: torch.Size([100, 128, 9])\n"
          ]
        },
        {
          "data": {
            "text/plain": [
              "===============================================================================================\n",
              "Layer (type:depth-idx)                        Output Shape              Param #\n",
              "===============================================================================================\n",
              "extendedMRCNN                                 [100, 640, 9]             --\n",
              "├─Sequential: 1-1                             [100, 128, 9]             --\n",
              "│    └─Conv1d: 2-1                            [100, 64, 61]             25,600\n",
              "│    └─BatchNorm1d: 2-2                       [100, 64, 61]             128\n",
              "│    └─GELU: 2-3                              [100, 64, 61]             --\n",
              "│    └─MaxPool1d: 2-4                         [100, 64, 31]             --\n",
              "│    └─Dropout: 2-5                           [100, 64, 31]             --\n",
              "│    └─Conv1d: 2-6                            [100, 128, 32]            65,536\n",
              "│    └─BatchNorm1d: 2-7                       [100, 128, 32]            256\n",
              "│    └─GELU: 2-8                              [100, 128, 32]            --\n",
              "│    └─Conv1d: 2-9                            [100, 128, 33]            131,072\n",
              "│    └─BatchNorm1d: 2-10                      [100, 128, 33]            256\n",
              "│    └─GELU: 2-11                             [100, 128, 33]            --\n",
              "│    └─MaxPool1d: 2-12                        [100, 128, 9]             --\n",
              "├─Sequential: 1-2                             [100, 128, 9]             --\n",
              "│    └─Conv1d: 2-13                           [100, 64, 61]             1,280\n",
              "│    └─BatchNorm1d: 2-14                      [100, 64, 61]             128\n",
              "│    └─GELU: 2-15                             [100, 64, 61]             --\n",
              "│    └─MaxPool1d: 2-16                        [100, 64, 31]             --\n",
              "│    └─Dropout: 2-17                          [100, 64, 31]             --\n",
              "│    └─Conv1d: 2-18                           [100, 128, 32]            65,536\n",
              "│    └─BatchNorm1d: 2-19                      [100, 128, 32]            256\n",
              "│    └─GELU: 2-20                             [100, 128, 32]            --\n",
              "│    └─Conv1d: 2-21                           [100, 128, 33]            131,072\n",
              "│    └─BatchNorm1d: 2-22                      [100, 128, 33]            256\n",
              "│    └─GELU: 2-23                             [100, 128, 33]            --\n",
              "│    └─MaxPool1d: 2-24                        [100, 128, 9]             --\n",
              "├─Sequential: 1-3                             [100, 128, 9]             --\n",
              "│    └─Conv1d: 2-25                           [100, 64, 61]             640\n",
              "│    └─BatchNorm1d: 2-26                      [100, 64, 61]             128\n",
              "│    └─GELU: 2-27                             [100, 64, 61]             --\n",
              "│    └─MaxPool1d: 2-28                        [100, 64, 31]             --\n",
              "│    └─Dropout: 2-29                          [100, 64, 31]             --\n",
              "│    └─Conv1d: 2-30                           [100, 128, 32]            65,536\n",
              "│    └─BatchNorm1d: 2-31                      [100, 128, 32]            256\n",
              "│    └─GELU: 2-32                             [100, 128, 32]            --\n",
              "│    └─Conv1d: 2-33                           [100, 128, 33]            131,072\n",
              "│    └─BatchNorm1d: 2-34                      [100, 128, 33]            256\n",
              "│    └─GELU: 2-35                             [100, 128, 33]            --\n",
              "│    └─MaxPool1d: 2-36                        [100, 128, 9]             --\n",
              "├─Sequential: 1-4                             [100, 128, 9]             --\n",
              "│    └─Conv1d: 2-37                           [100, 64, 60]             320\n",
              "│    └─BatchNorm1d: 2-38                      [100, 64, 60]             128\n",
              "│    └─GELU: 2-39                             [100, 64, 60]             --\n",
              "│    └─MaxPool1d: 2-40                        [100, 64, 31]             --\n",
              "│    └─Dropout: 2-41                          [100, 64, 31]             --\n",
              "│    └─Conv1d: 2-42                           [100, 128, 32]            65,536\n",
              "│    └─BatchNorm1d: 2-43                      [100, 128, 32]            256\n",
              "│    └─GELU: 2-44                             [100, 128, 32]            --\n",
              "│    └─Conv1d: 2-45                           [100, 128, 33]            131,072\n",
              "│    └─BatchNorm1d: 2-46                      [100, 128, 33]            256\n",
              "│    └─GELU: 2-47                             [100, 128, 33]            --\n",
              "│    └─MaxPool1d: 2-48                        [100, 128, 9]             --\n",
              "├─Sequential: 1-5                             [100, 128, 9]             --\n",
              "│    └─Conv1d: 2-49                           [100, 64, 61]             128\n",
              "│    └─BatchNorm1d: 2-50                      [100, 64, 61]             128\n",
              "│    └─GELU: 2-51                             [100, 64, 61]             --\n",
              "│    └─MaxPool1d: 2-52                        [100, 64, 31]             --\n",
              "│    └─Dropout: 2-53                          [100, 64, 31]             --\n",
              "│    └─Conv1d: 2-54                           [100, 128, 32]            65,536\n",
              "│    └─BatchNorm1d: 2-55                      [100, 128, 32]            256\n",
              "│    └─GELU: 2-56                             [100, 128, 32]            --\n",
              "│    └─Conv1d: 2-57                           [100, 128, 33]            131,072\n",
              "│    └─BatchNorm1d: 2-58                      [100, 128, 33]            256\n",
              "│    └─GELU: 2-59                             [100, 128, 33]            --\n",
              "│    └─MaxPool1d: 2-60                        [100, 128, 9]             --\n",
              "├─Dropout: 1-6                                [100, 640, 9]             --\n",
              "├─Sequential: 1-7                             [100, 640, 9]             --\n",
              "│    └─SEBasicBlock: 2-61                     [100, 640, 9]             --\n",
              "│    │    └─Conv1d: 3-1                       [100, 640, 9]             410,240\n",
              "│    │    └─BatchNorm1d: 3-2                  [100, 640, 9]             1,280\n",
              "│    │    └─ReLU: 3-3                         [100, 640, 9]             --\n",
              "│    │    └─Conv1d: 3-4                       [100, 640, 9]             410,240\n",
              "│    │    └─BatchNorm1d: 3-5                  [100, 640, 9]             1,280\n",
              "│    │    └─SELayer: 3-6                      [100, 640, 9]             51,200\n",
              "│    │    └─ReLU: 3-7                         [100, 640, 9]             --\n",
              "===============================================================================================\n",
              "Total params: 1,888,448\n",
              "Trainable params: 1,888,448\n",
              "Non-trainable params: 0\n",
              "Total mult-adds (Units.GIGABYTES): 4.13\n",
              "===============================================================================================\n",
              "Input size (MB): 1.20\n",
              "Forward/backward pass size (MB): 116.67\n",
              "Params size (MB): 7.55\n",
              "Estimated Total Size (MB): 125.42\n",
              "==============================================================================================="
            ]
          },
          "execution_count": 14,
          "metadata": {},
          "output_type": "execute_result"
        }
      ],
      "source": [
        "afr_reduced_cnn_size = 640  # Adjust based on your architecture requirements\n",
        "model = extendedMRCNN(afr_reduced_cnn_size)\n",
        "summary(model, input_size=(100,1,3000))"
      ]
    },
    {
      "cell_type": "code",
      "execution_count": 13,
      "metadata": {},
      "outputs": [
        {
          "data": {
            "text/plain": [
              "===========================================================================\n",
              "Layer (type:depth-idx)                             Param #\n",
              "===========================================================================\n",
              "DeepSleepSEEG                                      --\n",
              "├─extendedMRCNN: 1-1                               --\n",
              "│    └─Sequential: 2-1                             --\n",
              "│    │    └─Conv1d: 3-1                            25,600\n",
              "│    │    └─BatchNorm1d: 3-2                       128\n",
              "│    │    └─GELU: 3-3                              --\n",
              "│    │    └─MaxPool1d: 3-4                         --\n",
              "│    │    └─Dropout: 3-5                           --\n",
              "│    │    └─Conv1d: 3-6                            65,536\n",
              "│    │    └─BatchNorm1d: 3-7                       256\n",
              "│    │    └─GELU: 3-8                              --\n",
              "│    │    └─Conv1d: 3-9                            131,072\n",
              "│    │    └─BatchNorm1d: 3-10                      256\n",
              "│    │    └─GELU: 3-11                             --\n",
              "│    │    └─MaxPool1d: 3-12                        --\n",
              "│    └─Sequential: 2-2                             --\n",
              "│    │    └─Conv1d: 3-13                           1,280\n",
              "│    │    └─BatchNorm1d: 3-14                      128\n",
              "│    │    └─GELU: 3-15                             --\n",
              "│    │    └─MaxPool1d: 3-16                        --\n",
              "│    │    └─Dropout: 3-17                          --\n",
              "│    │    └─Conv1d: 3-18                           65,536\n",
              "│    │    └─BatchNorm1d: 3-19                      256\n",
              "│    │    └─GELU: 3-20                             --\n",
              "│    │    └─Conv1d: 3-21                           131,072\n",
              "│    │    └─BatchNorm1d: 3-22                      256\n",
              "│    │    └─GELU: 3-23                             --\n",
              "│    │    └─MaxPool1d: 3-24                        --\n",
              "│    └─Sequential: 2-3                             --\n",
              "│    │    └─Conv1d: 3-25                           640\n",
              "│    │    └─BatchNorm1d: 3-26                      128\n",
              "│    │    └─GELU: 3-27                             --\n",
              "│    │    └─MaxPool1d: 3-28                        --\n",
              "│    │    └─Dropout: 3-29                          --\n",
              "│    │    └─Conv1d: 3-30                           65,536\n",
              "│    │    └─BatchNorm1d: 3-31                      256\n",
              "│    │    └─GELU: 3-32                             --\n",
              "│    │    └─Conv1d: 3-33                           131,072\n",
              "│    │    └─BatchNorm1d: 3-34                      256\n",
              "│    │    └─GELU: 3-35                             --\n",
              "│    │    └─MaxPool1d: 3-36                        --\n",
              "│    └─Sequential: 2-4                             --\n",
              "│    │    └─Conv1d: 3-37                           320\n",
              "│    │    └─BatchNorm1d: 3-38                      128\n",
              "│    │    └─GELU: 3-39                             --\n",
              "│    │    └─MaxPool1d: 3-40                        --\n",
              "│    │    └─Dropout: 3-41                          --\n",
              "│    │    └─Conv1d: 3-42                           65,536\n",
              "│    │    └─BatchNorm1d: 3-43                      256\n",
              "│    │    └─GELU: 3-44                             --\n",
              "│    │    └─Conv1d: 3-45                           131,072\n",
              "│    │    └─BatchNorm1d: 3-46                      256\n",
              "│    │    └─GELU: 3-47                             --\n",
              "│    │    └─MaxPool1d: 3-48                        --\n",
              "│    └─Sequential: 2-5                             --\n",
              "│    │    └─Conv1d: 3-49                           128\n",
              "│    │    └─BatchNorm1d: 3-50                      128\n",
              "│    │    └─GELU: 3-51                             --\n",
              "│    │    └─MaxPool1d: 3-52                        --\n",
              "│    │    └─Dropout: 3-53                          --\n",
              "│    │    └─Conv1d: 3-54                           65,536\n",
              "│    │    └─BatchNorm1d: 3-55                      256\n",
              "│    │    └─GELU: 3-56                             --\n",
              "│    │    └─Conv1d: 3-57                           131,072\n",
              "│    │    └─BatchNorm1d: 3-58                      256\n",
              "│    │    └─GELU: 3-59                             --\n",
              "│    │    └─MaxPool1d: 3-60                        --\n",
              "│    └─Dropout: 2-6                                --\n",
              "│    └─Sequential: 2-7                             --\n",
              "│    │    └─SEBasicBlock: 3-61                     874,240\n",
              "├─TContext: 1-2                                    --\n",
              "│    └─LSTM: 2-8                                   526,336\n",
              "│    └─Linear: 2-9                                 516\n",
              "===========================================================================\n",
              "Total params: 2,415,300\n",
              "Trainable params: 2,415,300\n",
              "Non-trainable params: 0\n",
              "==========================================================================="
            ]
          },
          "execution_count": 13,
          "metadata": {},
          "output_type": "execute_result"
        }
      ],
      "source": [
        "complete_model = DeepSleepSEEG()\n",
        "summary(complete_model)"
      ]
    }
  ],
  "metadata": {
    "colab": {
      "provenance": []
    },
    "kernelspec": {
      "display_name": "Python 3",
      "name": "python3"
    },
    "language_info": {
      "codemirror_mode": {
        "name": "ipython",
        "version": 3
      },
      "file_extension": ".py",
      "mimetype": "text/x-python",
      "name": "python",
      "nbconvert_exporter": "python",
      "pygments_lexer": "ipython3",
      "version": "3.11.9"
    }
  },
  "nbformat": 4,
  "nbformat_minor": 0
}
